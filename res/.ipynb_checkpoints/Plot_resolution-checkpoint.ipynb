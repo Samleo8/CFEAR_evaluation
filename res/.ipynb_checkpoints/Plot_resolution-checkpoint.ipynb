{
 "cells": [
  {
   "cell_type": "code",
   "execution_count": 37,
   "id": "3324114a-5126-43c0-9f3e-ce73964be47a",
   "metadata": {},
   "outputs": [
    {
     "name": "stdout",
     "output_type": "stream",
     "text": [
      "     z min  min distance  max distance  k strongest      topic_filtered  \\\n",
      "1       65           2.5           130           12   /Navtech/Filtered   \n",
      "2       65           2.5           130           12   /Navtech/Filtered   \n",
      "4       65           2.5           130           12   /Navtech/Filtered   \n",
      "9       65           2.5           130           12   /Navtech/Filtered   \n",
      "12      65           2.5           130           12   /Navtech/Filtered   \n",
      "..     ...           ...           ...          ...                 ...   \n",
      "798     65           2.5           130           12   /Navtech/Filtered   \n",
      "802     65           2.5           130           12   /Navtech/Filtered   \n",
      "813     65           2.5           130           12   /Navtech/Filtered   \n",
      "814     65           2.5           130           12   /Navtech/Filtered   \n",
      "815     65           2.5           130           12   /Navtech/Filtered   \n",
      "\n",
      "    radar_frameid  dataset  input_points_topic scan_registered_latest_topic  \\\n",
      "1      sensor_est   oxford   /Navtech/Filtered             radar_registered   \n",
      "2      sensor_est   oxford   /Navtech/Filtered             radar_registered   \n",
      "4      sensor_est   oxford   /Navtech/Filtered             radar_registered   \n",
      "9      sensor_est   oxford   /Navtech/Filtered             radar_registered   \n",
      "12     sensor_est   oxford   /Navtech/Filtered             radar_registered   \n",
      "..            ...      ...                 ...                          ...   \n",
      "798    sensor_est   oxford   /Navtech/Filtered             radar_registered   \n",
      "802    sensor_est   oxford   /Navtech/Filtered             radar_registered   \n",
      "813    sensor_est   oxford   /Navtech/Filtered             radar_registered   \n",
      "814    sensor_est   oxford   /Navtech/Filtered             radar_registered   \n",
      "815    sensor_est   oxford   /Navtech/Filtered             radar_registered   \n",
      "\n",
      "    scan_registered_keyframe_topic  ... Transl. Error Rot.err. [deg/100m]  \\\n",
      "1        radar_registered_keyframe  ...         1.479               0.485   \n",
      "2        radar_registered_keyframe  ...         1.608               0.480   \n",
      "4        radar_registered_keyframe  ...         1.284               0.433   \n",
      "9        radar_registered_keyframe  ...         3.619               0.827   \n",
      "12       radar_registered_keyframe  ...         2.036               0.560   \n",
      "..                             ...  ...           ...                 ...   \n",
      "798      radar_registered_keyframe  ...         1.356               0.428   \n",
      "802      radar_registered_keyframe  ...         1.760               0.508   \n",
      "813      radar_registered_keyframe  ...         1.691               0.529   \n",
      "814      radar_registered_keyframe  ...         1.960               0.664   \n",
      "815      radar_registered_keyframe  ...         3.242               0.613   \n",
      "\n",
      "    ATE [m]  RPE [m]  RPE-dev [m]  RPE [deg]  RPE-dev [deg]  bias-x [m]  \\\n",
      "1    33.658    0.071        0.057      0.082          0.076      -0.010   \n",
      "2    18.817    0.099        0.085      0.095          0.099      -0.017   \n",
      "4    18.379    0.078        0.072      0.084          0.083      -0.012   \n",
      "9    50.539    0.119        0.149      0.106          0.135       0.010   \n",
      "12   29.033    0.071        0.067      0.083          0.080       0.005   \n",
      "..      ...      ...          ...        ...            ...         ...   \n",
      "798  24.115    0.060        0.056      0.070          0.065      -0.015   \n",
      "802  39.765    0.098        0.114      0.099          0.099      -0.020   \n",
      "813  66.346    0.049        0.042      0.069          0.065      -0.020   \n",
      "814  40.408    0.052        0.047      0.073          0.072      -0.014   \n",
      "815  37.131    0.108        0.178      0.098          0.150       0.007   \n",
      "\n",
      "    bias-y [m] bias-theta [deg]  \n",
      "1       -0.010            0.002  \n",
      "2       -0.008            0.001  \n",
      "4       -0.009            0.001  \n",
      "9        0.002            0.002  \n",
      "12       0.001            0.002  \n",
      "..         ...              ...  \n",
      "798     -0.009            0.001  \n",
      "802     -0.000            0.000  \n",
      "813      0.000            0.004  \n",
      "814      0.000            0.002  \n",
      "815      0.001            0.000  \n",
      "\n",
      "[408 rows x 54 columns]\n"
     ]
    },
    {
     "data": {
      "image/png": "[encoded data removed]",
      "text/plain": [
       "<Figure size 432x288 with 1 Axes>"
      ]
     },
     "metadata": {},
     "output_type": "display_data"
    },
    {
     "ename": "AttributeError",
     "evalue": "'AxesSubplot' object has no attribute 'replot'",
     "output_type": "error",
     "traceback": [
      "\u001b[0;31m---------------------------------------------------------------------------\u001b[0m",
      "\u001b[0;31mAttributeError\u001b[0m                            Traceback (most recent call last)",
      "\u001b[0;32m<ipython-input-37-df836287d68f>\u001b[0m in \u001b[0;36m<module>\u001b[0;34m\u001b[0m\n\u001b[1;32m     32\u001b[0m \u001b[0mplt\u001b[0m\u001b[0;34m.\u001b[0m\u001b[0mgrid\u001b[0m\u001b[0;34m(\u001b[0m\u001b[0;34m)\u001b[0m\u001b[0;34m\u001b[0m\u001b[0;34m\u001b[0m\u001b[0m\n\u001b[1;32m     33\u001b[0m \u001b[0mplt\u001b[0m\u001b[0;34m.\u001b[0m\u001b[0mshow\u001b[0m\u001b[0;34m(\u001b[0m\u001b[0;34m)\u001b[0m\u001b[0;34m\u001b[0m\u001b[0;34m\u001b[0m\u001b[0m\n\u001b[0;32m---> 34\u001b[0;31m pl.replot(x=\"resolution r\", y=\"Transl. Error\", hue=\"submap keyframes\",\n\u001b[0m\u001b[1;32m     35\u001b[0m                    data=dp2l, dodge=True)\n\u001b[1;32m     36\u001b[0m \u001b[0;31m#pl.replot\u001b[0m\u001b[0;34m\u001b[0m\u001b[0;34m\u001b[0m\u001b[0;34m\u001b[0m\u001b[0m\n",
      "\u001b[0;31mAttributeError\u001b[0m: 'AxesSubplot' object has no attribute 'replot'"
     ]
    }
   ],
   "source": [
    "import pandas as pd\n",
    "import seaborn as sns\n",
    "import matplotlib.pyplot as plt\n",
    "import numpy as np\n",
    "import csv\n",
    "\n",
    "\n",
    "\n",
    "\n",
    "sns.set_theme(style=\"ticks\", color_codes=True)\n",
    "sns.set(style=\"ticks\")\n",
    "\n",
    "#Categorical\n",
    "#tips = sns.load_dataset(\"tips\")\n",
    "\n",
    "\n",
    "\n",
    "df = pd.read_csv('./CFEAR_eval2021-07-17_09:22.csv', sep=r',', header=0)\n",
    "#dp2p=df[\"cost type\"]\n",
    "#dp2p[2]\n",
    "dp2l=df.loc[df[\"cost type\"] == ' \"P2L\"']\n",
    "dp2p=df.loc[df[\"cost type\"] == ' \"P2P\"']\n",
    "#print(dp2p)\n",
    "#print(dp2l)\n",
    "\n",
    " #ax.plot(m.Time, m.Mean)\n",
    " #   ax.fill_between(m.Time, m.Mean - m.Std, m.Mean + m.Std, alpha=0.35)\n",
    "pl=sns.pointplot(x=\"resolution r\", y=\"Transl. Error\", hue=\"submap keyframes\",\n",
    "                   data=dp2p, dodge=True)\n",
    "plt.locator_params(axis='x', nbins=5)\n",
    "plt.ylim(1.0,6)\n",
    "plt.grid()\n",
    "plt.show()\n",
    "pl.replot(x=\"resolution r\", y=\"Transl. Error\", hue=\"submap keyframes\",\n",
    "                   data=dp2l, dodge=True)\n",
    "#pl.replot\n",
    "\n",
    "#sns_plot.savefig('Transl_error_submap_keyframes.eps', format='eps')\n",
    "#sns_plot.savefig('Transl_error_submap_keyframes.png', format='png', dpi=1000)\n",
    "\n",
    "\n",
    "\n",
    "\n"
   ]
  },
  {
   "cell_type": "code",
   "execution_count": null,
   "id": "1e493a92-fd12-4183-afc8-04b8c2717d2b",
   "metadata": {},
   "outputs": [],
   "source": []
  },
  {
   "cell_type": "code",
   "execution_count": null,
   "id": "aaa9871a-3ed4-41b4-867e-105bf229100f",
   "metadata": {},
   "outputs": [],
   "source": []
  },
  {
   "cell_type": "code",
   "execution_count": null,
   "id": "552d2449-76c1-4e23-8dfb-e1d17fcee90b",
   "metadata": {},
   "outputs": [],
   "source": []
  },
  {
   "cell_type": "code",
   "execution_count": null,
   "id": "c3652606-55d1-44c8-bbce-c7a0d13be970",
   "metadata": {},
   "outputs": [],
   "source": []
  },
  {
   "cell_type": "code",
   "execution_count": null,
   "id": "6260461a-17d0-498a-bca1-eed1dec0d2c3",
   "metadata": {},
   "outputs": [],
   "source": []
  }
 ],
 "metadata": {
  "kernelspec": {
   "display_name": "Python 3",
   "language": "python",
   "name": "python3"
  },
  "language_info": {
   "codemirror_mode": {
    "name": "ipython",
    "version": 3
   },
   "file_extension": ".py",
   "mimetype": "text/x-python",
   "name": "python",
   "nbconvert_exporter": "python",
   "pygments_lexer": "ipython3",
   "version": "3.6.9"
  }
 },
 "nbformat": 4,
 "nbformat_minor": 5
}
