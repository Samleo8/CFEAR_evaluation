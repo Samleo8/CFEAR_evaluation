{
 "cells": [
  {
   "cell_type": "code",
   "execution_count": 18,
   "id": "3324114a-5126-43c0-9f3e-ce73964be47a",
   "metadata": {},
   "outputs": [
    {
     "name": "stdout",
     "output_type": "stream",
     "text": [
      "Index(['z min', 'min distance', 'max distance', 'k strongest',\n",
      "       'topic_filtered', 'radar_frameid', 'dataset', 'input_points_topic',\n",
      "       'scan_registered_latest_topic', 'scan_registered_keyframe_topic',\n",
      "       'odom_latest_topic', 'odom_keyframe_topic', 'use raw pointcloud',\n",
      "       'submap keyframes', 'resolution r', 'resample factor f',\n",
      "       'min. sensor distance [m]', 'min. sensor rot. [deg]', 'use keyframe',\n",
      "       'use initial guess', 'radar reversed', 'disable registration',\n",
      "       'soft velocity constraint', 'compensate', 'cost type',\n",
      "       'todom_est_topic', 'gt_topic', 'est_output_dir', 'gt_output_dir',\n",
      "       'sequence', 'job nr', 'nr_frames', 'Filtered points avg',\n",
      "       'Filtered points dev [σ]', 'Filtered points count',\n",
      "       'Surface points avg', 'Surface points dev [σ]', 'Surface points count',\n",
      "       'Registration avg', 'Registration dev [σ]', 'Registration count',\n",
      "       'Filtering avg', 'Filtering dev [σ]', 'Filtering count',\n",
      "       'Transl. Error', 'Rot.err. [deg/100m]', 'ATE [m]', 'RPE [m]',\n",
      "       'RPE-dev [m]', 'RPE [deg]', 'RPE-dev [deg]', 'bias-x [m]', 'bias-y [m]',\n",
      "       'bias-theta [deg]'],\n",
      "      dtype='object')\n"
     ]
    },
    {
     "data": {
      "image/png": "[encoded data removed]",
      "text/plain": [
       "<Figure size 432.975x360 with 1 Axes>"
      ]
     },
     "metadata": {},
     "output_type": "display_data"
    }
   ],
   "source": [
    "import pandas as pd\n",
    "import seaborn as sns\n",
    "import matplotlib.pyplot as plt\n",
    "import numpy as np\n",
    "import csv\n",
    "\n",
    "\n",
    "\n",
    "\n",
    "sns.set_theme(style=\"ticks\", color_codes=True)\n",
    "sns.set(style=\"ticks\")\n",
    "\n",
    "#Categorical\n",
    "#tips = sns.load_dataset(\"tips\")\n",
    "\n",
    "\n",
    "\n",
    "df = pd.read_csv('./CFEAR_eval2021-07-17_09:22.csv', sep=r',', header=0)\n",
    "\n",
    "print(df.columns)\n",
    "\n",
    "\n",
    "sns_plot = sns.catplot(x=\"resolution r\", y=\"Transl. Error\", hue=\"cost type\", kind=\"box\", dodge=True, data=df)\n",
    "plt.ylim(1.0,7)\n",
    "plt.locator_params(axis='x', nbins=5)\n",
    "\n",
    "plt.grid()\n",
    "plt.show()\n",
    "sns_plot.savefig('Transl_error_submap_keyframes.eps', format='eps')\n",
    "sns_plot.savefig('Transl_error_submap_keyframes.png', format='png', dpi=1000)\n",
    "\n",
    "\n",
    "\n",
    "\n"
   ]
  },
  {
   "cell_type": "code",
   "execution_count": null,
   "id": "1e493a92-fd12-4183-afc8-04b8c2717d2b",
   "metadata": {},
   "outputs": [],
   "source": []
  },
  {
   "cell_type": "code",
   "execution_count": null,
   "id": "aaa9871a-3ed4-41b4-867e-105bf229100f",
   "metadata": {},
   "outputs": [],
   "source": []
  },
  {
   "cell_type": "code",
   "execution_count": null,
   "id": "552d2449-76c1-4e23-8dfb-e1d17fcee90b",
   "metadata": {},
   "outputs": [],
   "source": []
  },
  {
   "cell_type": "code",
   "execution_count": null,
   "id": "c3652606-55d1-44c8-bbce-c7a0d13be970",
   "metadata": {},
   "outputs": [],
   "source": []
  },
  {
   "cell_type": "code",
   "execution_count": null,
   "id": "6260461a-17d0-498a-bca1-eed1dec0d2c3",
   "metadata": {},
   "outputs": [],
   "source": []
  }
 ],
 "metadata": {
  "kernelspec": {
   "display_name": "Python 3",
   "language": "python",
   "name": "python3"
  },
  "language_info": {
   "codemirror_mode": {
    "name": "ipython",
    "version": 3
   },
   "file_extension": ".py",
   "mimetype": "text/x-python",
   "name": "python",
   "nbconvert_exporter": "python",
   "pygments_lexer": "ipython3",
   "version": "3.6.9"
  }
 },
 "nbformat": 4,
 "nbformat_minor": 5
}
