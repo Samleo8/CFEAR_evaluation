{
 "cells": [
  {
   "cell_type": "code",
   "execution_count": 21,
   "id": "63302206-2f22-43c4-9d11-a1dd61a9ae3f",
   "metadata": {},
   "outputs": [
    {
     "name": "stdout",
     "output_type": "stream",
     "text": [
      "             x         y       yaw     cov11     cov12     cov13     cov21  \\\n",
      "0     0.005593  0.005867  0.000452  0.012416  0.000636  0.000010  0.000636   \n",
      "1    -0.005024 -0.022411  0.000113  0.012159  0.000103  0.000017  0.000103   \n",
      "2     0.000302  0.001787 -0.000069  0.012578  0.000142  0.000024  0.000142   \n",
      "3     0.000800  0.001130  0.000032  0.011715 -0.000092  0.000046 -0.000092   \n",
      "4     0.001669  0.001535 -0.000172  0.012278 -0.000182  0.000027 -0.000182   \n",
      "...        ...       ...       ...       ...       ...       ...       ...   \n",
      "1137 -0.075899 -0.002517  0.000144  0.029425  0.000633 -0.000148  0.000633   \n",
      "1138 -0.078330 -0.008357 -0.001657  0.028265  0.001312 -0.000207  0.001312   \n",
      "1139  0.031011  0.017036  0.001768  0.026407 -0.001052 -0.000216 -0.001052   \n",
      "1140 -0.031116 -0.020896  0.000046  0.025066 -0.001063 -0.000296 -0.001063   \n",
      "1141 -0.010603 -0.015416  0.000253  0.022617 -0.003170 -0.000165 -0.003170   \n",
      "\n",
      "         cov22  cov23     cov31  cov32     cov33  epsilon  err2  \n",
      "0     0.011758    0.0  0.000010    0.0  0.000014      0.0     0  \n",
      "1     0.011941    0.0  0.000017    0.0  0.000014      0.0     0  \n",
      "2     0.011362    0.0  0.000024    0.0  0.000013      0.0     0  \n",
      "3     0.011162    0.0  0.000046    0.0  0.000013      0.0     0  \n",
      "4     0.012064    0.0  0.000027    0.0  0.000015      0.0     0  \n",
      "...        ...    ...       ...    ...       ...      ...   ...  \n",
      "1137  0.018702    0.0 -0.000148    0.0  0.000034      0.0     0  \n",
      "1138  0.016330    0.0 -0.000207    0.0  0.000026      0.0     0  \n",
      "1139  0.019943    0.0 -0.000216    0.0  0.000033      0.0     0  \n",
      "1140  0.023435    0.0 -0.000296    0.0  0.000037      0.0     0  \n",
      "1141  0.019643    0.0 -0.000165    0.0  0.000030      0.0     0  \n",
      "\n",
      "[1142 rows x 14 columns]\n",
      "0       0.064697\n",
      "1       0.549766\n",
      "2       0.003590\n",
      "3       0.002128\n",
      "4       0.005358\n",
      "          ...   \n",
      "1137    2.447662\n",
      "1138    2.730559\n",
      "1139    0.664909\n",
      "1140    0.746584\n",
      "1141    0.248131\n",
      "Name: epsilon, Length: 1142, dtype: float64\n",
      "2.0334420298532243\n",
      "0.0\n"
     ]
    },
    {
     "name": "stderr",
     "output_type": "stream",
     "text": [
      "/home/daniel/.local/lib/python3.6/site-packages/seaborn/distributions.py:306: UserWarning: Dataset has 0 variance; skipping density estimate.\n",
      "  warnings.warn(msg, UserWarning)\n"
     ]
    },
    {
     "data": {
      "image/png": "[encoded data removed]",
      "text/plain": [
       "<Figure size 360x360 with 1 Axes>"
      ]
     },
     "metadata": {
      "needs_background": "light"
     },
     "output_type": "display_data"
    },
    {
     "data": {
      "image/png": "[encoded data removed]",
      "text/plain": [
       "<Figure size 360x360 with 1 Axes>"
      ]
     },
     "metadata": {
      "needs_background": "light"
     },
     "output_type": "display_data"
    }
   ],
   "source": [
    "import math\n",
    "import pandas as pd\n",
    "import seaborn as sns\n",
    "import matplotlib.pyplot as plt\n",
    "import numpy as np\n",
    "import csv\n",
    "\n",
    "\n",
    "df = pd.read_csv('./2021-10-05_14:48/est/01.txt_cov.csv', sep=r',', header=0)\n",
    "df['epsilon']=0.0\n",
    "df['err2'] = 0.0\n",
    "#df['norm'] = df['x']*df['x']\n",
    "print(df)\n",
    "#sns.scatterplot(data=df, x=\"x\", y=\"y\")\n",
    "\n",
    "\n",
    "\n",
    "for i, row in df.iterrows():\n",
    "    df.at[i, 'err2'] = (row['x']*row['x'] + row['y']*row['y'] )\n",
    "    e= [row['x'], row['y'] ] #, row['yaw'] ],\n",
    "    c=[ [row['cov11'], row['cov12'], row['cov13'] ],\n",
    "        [row['cov21'], row['cov22'], row['cov23'] ],\n",
    "        [row['cov31'], row['cov32'], row['cov33'] ] ]\n",
    "    c2=np.array([ [row['cov11'], row['cov12']],\n",
    "         [row['cov21'], row['cov22']] ])\n",
    "    c2=c2*0.08\n",
    "    I=np.linalg.inv(c2)\n",
    "    epsilon=np.dot(e,np.matmul(I,np.transpose(e)))\n",
    "    #print(epsilon)\n",
    "    df.at[i, 'epsilon'] = epsilon\n",
    "    #df.at[i,'epsilon'] = epsilon #[0][0]\n",
    "    #print(df.at[i,'epsilon'])\n",
    "    \n",
    "print(df['epsilon'])\n",
    "    #print(row['c11'], row['c12'], row['c13'])\n",
    "#sns.displot(data=df, x=\"x\", y=\"y\", kind=\"hist\")\n",
    "#print(df.mean())\n",
    "#sns.displot(df, x=\"cov11\", kind=\"kde\")\n",
    "sns.displot(df, x=\"epsilon\", kind=\"kde\")\n",
    "sns.displot(df, x=\"err2\", kind=\"kde\")\n",
    "print(df['epsilon'].mean())\n",
    "print(df['err2'].mean())\n",
    "#sns.displot(data=df, x=\"x\", y=\"y\", kind=\"hist\")\n",
    "#sns.scatterplot(data=df, x=\"x2\", y=\"cov11\")\n",
    "\n",
    "\n",
    "\n",
    "\n"
   ]
  },
  {
   "cell_type": "code",
   "execution_count": null,
   "id": "224f65ba-641a-449b-b512-3993620fe81b",
   "metadata": {},
   "outputs": [],
   "source": []
  },
  {
   "cell_type": "code",
   "execution_count": null,
   "id": "9717b9d1-c763-4bf6-869d-45a290726d8d",
   "metadata": {},
   "outputs": [],
   "source": []
  },
  {
   "cell_type": "code",
   "execution_count": null,
   "id": "0184baee-11e7-4896-9b35-975d3d0cfbf3",
   "metadata": {},
   "outputs": [],
   "source": []
  }
 ],
 "metadata": {
  "kernelspec": {
   "display_name": "Python 3",
   "language": "python",
   "name": "python3"
  },
  "language_info": {
   "codemirror_mode": {
    "name": "ipython",
    "version": 3
   },
   "file_extension": ".py",
   "mimetype": "text/x-python",
   "name": "python",
   "nbconvert_exporter": "python",
   "pygments_lexer": "ipython3",
   "version": "3.6.9"
  }
 },
 "nbformat": 4,
 "nbformat_minor": 5
}
