{
 "cells": [
  {
   "cell_type": "code",
   "execution_count": 1,
   "id": "712d3d47-bf9b-44da-b5ab-0572dd898c3d",
   "metadata": {},
   "outputs": [
    {
     "ename": "ModuleNotFoundError",
     "evalue": "No module named 'pandas'",
     "output_type": "error",
     "traceback": [
      "\u001b[0;31m---------------------------------------------------------------------------\u001b[0m",
      "\u001b[0;31mModuleNotFoundError\u001b[0m                       Traceback (most recent call last)",
      "\u001b[0;32m/tmp/ipykernel_483197/3605930019.py\u001b[0m in \u001b[0;36m<module>\u001b[0;34m\u001b[0m\n\u001b[0;32m----> 1\u001b[0;31m \u001b[0;32mimport\u001b[0m \u001b[0mpandas\u001b[0m \u001b[0;32mas\u001b[0m \u001b[0mpd\u001b[0m\u001b[0;34m\u001b[0m\u001b[0;34m\u001b[0m\u001b[0m\n\u001b[0m\u001b[1;32m      2\u001b[0m \u001b[0;32mimport\u001b[0m \u001b[0mseaborn\u001b[0m \u001b[0;32mas\u001b[0m \u001b[0msns\u001b[0m\u001b[0;34m\u001b[0m\u001b[0;34m\u001b[0m\u001b[0m\n\u001b[1;32m      3\u001b[0m \u001b[0;32mimport\u001b[0m \u001b[0mmatplotlib\u001b[0m\u001b[0;34m.\u001b[0m\u001b[0mpyplot\u001b[0m \u001b[0;32mas\u001b[0m \u001b[0mplt\u001b[0m\u001b[0;34m\u001b[0m\u001b[0;34m\u001b[0m\u001b[0m\n\u001b[1;32m      4\u001b[0m \u001b[0;32mimport\u001b[0m \u001b[0mnumpy\u001b[0m \u001b[0;32mas\u001b[0m \u001b[0mnp\u001b[0m\u001b[0;34m\u001b[0m\u001b[0;34m\u001b[0m\u001b[0m\n\u001b[1;32m      5\u001b[0m \u001b[0;32mimport\u001b[0m \u001b[0mcsv\u001b[0m\u001b[0;34m\u001b[0m\u001b[0;34m\u001b[0m\u001b[0m\n",
      "\u001b[0;31mModuleNotFoundError\u001b[0m: No module named 'pandas'"
     ]
    }
   ],
   "source": [
    "import pandas as pd\n",
    "import seaborn as sns\n",
    "import matplotlib.pyplot as plt\n",
    "import numpy as np\n",
    "import csv\n",
    "\n",
    "\n",
    "\n",
    "\n",
    "sns.set_theme(style=\"ticks\", color_codes=True)\n",
    "sns.set(style=\"ticks\")\n",
    "colors = [\"#E59866\", \"#D35400\", \"#873600\", \"#85C1E9\", \"#3498DB\", \"#2874A6\"]\n",
    "pal=sns.color_palette(colors)\n",
    "\n",
    "\n",
    "mar=['o','o','o','s','s','s']\n",
    "lin=['-','--',':','-','--',':']\n",
    "\n",
    "\n",
    "### LOAD AND SORT NAMES OF COLUMNS\n",
    "df = pd.read_csv('./2021-07-19_01:13_eval.csv', sep=r',', header=0)\n",
    "#print(df.columns)\n",
    "df = df.rename(columns={'resolution r': 'resolution r [m]'})\n",
    "df=df[df[\"submap keyframes\"] == 3]\n",
    "df=df[df[\"resolution r [m]\"] == 2.75]\n",
    "df=df[df[\"k strongest\"] == 40]\n",
    "\n",
    "df=df.sort_values(by=['ATE [m]'])\n",
    "#print(df['ATE [m]'])\n",
    "df=df.sort_values(by=['RPE [m]'])\n",
    "#print(df['RPE [m]'])\n",
    "df=df.sort_values(by=['Trans.err. [%]'])\n",
    "#print(df['Trans.err. [%]'])\n",
    "#print(df['Rot.err. [deg/100m]'])\n",
    "#print(df['job nr'])\n",
    "#print(df['sequence'])\n",
    "print(df['Trans.err. [%]'].mean())\n",
    "print(df['Rot.err. [deg/100m]'].mean())\n",
    "\n",
    "#sns_plot=sns.catplot( x=\"sequence\", y=\"job nr\", hue=\"submap keyframes\",\n",
    "#                   data=df, dodge=True)\n",
    "#plt.locator_params(axis='x', nbins=5)\n",
    "#sns_plot.legend(loc='upper left', ncol=1)\n",
    "#sns_plot.set_xticklabels(rotation=30)\n",
    "#plt.title('Computation time')\n",
    "#plt.ylim(0.04, 0.15)\n",
    "#plt.ylim(0,4)\n",
    "#plt.title('Relative Pose Error (RPE) vs grid resolution r')\n",
    "#plt.grid()\n",
    "##plt.show()\n",
    "#fig=sns_plot.get_figure()\n",
    "\n"
   ]
  },
  {
   "cell_type": "code",
   "execution_count": null,
   "id": "1a6900d6-d943-4f90-8626-7053c44c76e9",
   "metadata": {},
   "outputs": [],
   "source": []
  }
 ],
 "metadata": {
  "kernelspec": {
   "display_name": "Python 3 (ipykernel)",
   "language": "python",
   "name": "python3"
  },
  "language_info": {
   "codemirror_mode": {
    "name": "ipython",
    "version": 3
   },
   "file_extension": ".py",
   "mimetype": "text/x-python",
   "name": "python",
   "nbconvert_exporter": "python",
   "pygments_lexer": "ipython3",
   "version": "3.9.5"
  }
 },
 "nbformat": 4,
 "nbformat_minor": 5
}
