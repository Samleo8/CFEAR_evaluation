{
 "cells": [
  {
   "cell_type": "code",
   "execution_count": 2,
   "id": "d8214c38-f730-4412-b637-cbc443da7bb4",
   "metadata": {},
   "outputs": [
    {
     "name": "stdout",
     "output_type": "stream",
     "text": [
      "257      7.008\n",
      "579      9.352\n",
      "679     10.540\n",
      "716     11.813\n",
      "338     11.991\n",
      "        ...   \n",
      "784    360.968\n",
      "422    364.809\n",
      "449    410.887\n",
      "766    435.264\n",
      "613    541.618\n",
      "Name: ATE [m], Length: 816, dtype: float64\n"
     ]
    }
   ],
   "source": [
    "import pandas as pd\n",
    "import seaborn as sns\n",
    "import matplotlib.pyplot as plt\n",
    "import numpy as np\n",
    "import csv\n",
    "\n",
    "\n",
    "\n",
    "### LOAD AND SORT NAMES OF COLUMNS\n",
    "df = pd.read_csv('./CFEAR_eval_resolution_2021-07-17_09:22.csv', sep=r',', header=0)\n",
    "dsort=df.sort_values(by=[\"ATE [m]\"])\n",
    "print(dsort[\"ATE [m]\"])\n",
    "#dbest=dsort[dsort[\"ATE [m]\"] < 8]\n",
    "#print(dbest)\n",
    "#print(dbest[\"sequence\"])\n",
    "#print(dbest[\"z min\"])\n",
    "#print(dbest[\"min distance\"])\n",
    "#print(dbest[\"k strongest\"])\n",
    "#print(dbest[\"resolution r\"])\n",
    "#print(dbest[\"cost type\"])"
   ]
  },
  {
   "cell_type": "code",
   "execution_count": 2,
   "id": "69625232-7812-4aa8-8c34-eaa36f336fd7",
   "metadata": {},
   "outputs": [
    {
     "name": "stdout",
     "output_type": "stream",
     "text": [
      "     z min  min distance  max distance  k strongest      topic_filtered  \\\n",
      "0       65           2.5           130           12   /Navtech/Filtered   \n",
      "1       65           2.5           130           12   /Navtech/Filtered   \n",
      "2       65           2.5           130           12   /Navtech/Filtered   \n",
      "3       65           2.5           130           12   /Navtech/Filtered   \n",
      "4       65           2.5           130           12   /Navtech/Filtered   \n",
      "..     ...           ...           ...          ...                 ...   \n",
      "811     65           2.5           130           12   /Navtech/Filtered   \n",
      "812     65           2.5           130           12   /Navtech/Filtered   \n",
      "813     65           2.5           130           12   /Navtech/Filtered   \n",
      "814     65           2.5           130           12   /Navtech/Filtered   \n",
      "815     65           2.5           130           12   /Navtech/Filtered   \n",
      "\n",
      "    radar_frameid  dataset  input_points_topic scan_registered_latest_topic  \\\n",
      "0      sensor_est   oxford   /Navtech/Filtered             radar_registered   \n",
      "1      sensor_est   oxford   /Navtech/Filtered             radar_registered   \n",
      "2      sensor_est   oxford   /Navtech/Filtered             radar_registered   \n",
      "3      sensor_est   oxford   /Navtech/Filtered             radar_registered   \n",
      "4      sensor_est   oxford   /Navtech/Filtered             radar_registered   \n",
      "..            ...      ...                 ...                          ...   \n",
      "811    sensor_est   oxford   /Navtech/Filtered             radar_registered   \n",
      "812    sensor_est   oxford   /Navtech/Filtered             radar_registered   \n",
      "813    sensor_est   oxford   /Navtech/Filtered             radar_registered   \n",
      "814    sensor_est   oxford   /Navtech/Filtered             radar_registered   \n",
      "815    sensor_est   oxford   /Navtech/Filtered             radar_registered   \n",
      "\n",
      "    scan_registered_keyframe_topic  ... Transl. Error Rot.err. [deg/100m]  \\\n",
      "0        radar_registered_keyframe  ...         2.154               0.672   \n",
      "1        radar_registered_keyframe  ...         1.479               0.485   \n",
      "2        radar_registered_keyframe  ...         1.608               0.480   \n",
      "3        radar_registered_keyframe  ...         1.810               0.594   \n",
      "4        radar_registered_keyframe  ...         1.284               0.433   \n",
      "..                             ...  ...           ...                 ...   \n",
      "811      radar_registered_keyframe  ...         1.808               0.554   \n",
      "812      radar_registered_keyframe  ...         1.675               0.483   \n",
      "813      radar_registered_keyframe  ...         1.691               0.529   \n",
      "814      radar_registered_keyframe  ...         1.960               0.664   \n",
      "815      radar_registered_keyframe  ...         3.242               0.613   \n",
      "\n",
      "    ATE [m]  RPE [m]  RPE-dev [m]  RPE [deg]  RPE-dev [deg]  bias-x [m]  \\\n",
      "0    84.688    0.042        0.030      0.083          0.075      -0.020   \n",
      "1    33.658    0.071        0.057      0.082          0.076      -0.010   \n",
      "2    18.817    0.099        0.085      0.095          0.099      -0.017   \n",
      "3    77.314    0.048        0.043      0.074          0.069      -0.020   \n",
      "4    18.379    0.078        0.072      0.084          0.083      -0.012   \n",
      "..      ...      ...          ...        ...            ...         ...   \n",
      "811  59.592    0.046        0.033      0.080          0.074      -0.021   \n",
      "812  41.174    0.050        0.035      0.081          0.074      -0.021   \n",
      "813  66.346    0.049        0.042      0.069          0.065      -0.020   \n",
      "814  40.408    0.052        0.047      0.073          0.072      -0.014   \n",
      "815  37.131    0.108        0.178      0.098          0.150       0.007   \n",
      "\n",
      "    bias-y [m] bias-theta [deg]  \n",
      "0       -0.002            0.004  \n",
      "1       -0.010            0.002  \n",
      "2       -0.008            0.001  \n",
      "3       -0.010            0.004  \n",
      "4       -0.009            0.001  \n",
      "..         ...              ...  \n",
      "811     -0.002            0.003  \n",
      "812     -0.002            0.002  \n",
      "813      0.000            0.004  \n",
      "814      0.000            0.002  \n",
      "815      0.001            0.000  \n",
      "\n",
      "[816 rows x 54 columns]\n"
     ]
    }
   ],
   "source": []
  },
  {
   "cell_type": "code",
   "execution_count": null,
   "id": "4a9869a8-2832-4139-be9f-466ad7494904",
   "metadata": {},
   "outputs": [],
   "source": []
  }
 ],
 "metadata": {
  "kernelspec": {
   "display_name": "Python 3 (ipykernel)",
   "language": "python",
   "name": "python3"
  },
  "language_info": {
   "codemirror_mode": {
    "name": "ipython",
    "version": 3
   },
   "file_extension": ".py",
   "mimetype": "text/x-python",
   "name": "python",
   "nbconvert_exporter": "python",
   "pygments_lexer": "ipython3",
   "version": "3.9.5"
  }
 },
 "nbformat": 4,
 "nbformat_minor": 5
}
