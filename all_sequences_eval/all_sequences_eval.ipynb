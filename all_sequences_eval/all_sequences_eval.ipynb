{
 "cells": [
  {
   "cell_type": "code",
   "execution_count": 74,
   "id": "8f64a2cc-10b0-4a7c-8a72-e9c49ae89168",
   "metadata": {},
   "outputs": [],
   "source": []
  },
  {
   "cell_type": "markdown",
   "id": "4d285e7a-69d2-4933-8bc3-48c363eda41a",
   "metadata": {},
   "source": [
    "## import math\n",
    "\n",
    "### LOAD AND SORT NAMES OF COLUMNS\n",
    "dd = pd.read_csv('./Mulran_generalization_2021-07-24_12:35_errors.txt', sep=r' ', header=0)\n",
    "print(dd)\n",
    "print(dd[\"Rot.err.(deg/100m)\"])\n",
    "dd = dd.rename(columns={'length': 'Path length',})\n",
    "dd = dd.rename(columns={'Rot.err.(deg/100m)': 'Rotation error (deg/100m)',})\n",
    "dd = dd.rename(columns={'Trans.err.(%)': 'Translation errror (%) [m/m]',})\n",
    "#df['Rot.err.(deg/100m)'] = df['Rot.err.(deg/100m)'].apply(lambda x: x*180.0/math.pi*100)\n",
    "dd['Rotation error (deg/100m)'] = dd['Rotation error (deg/100m)']*180/math.pi*100\n",
    "dd['Translation errror (%) [m/m]'] = dd['Translation errror (%) [m/m]']*100\n",
    "\n",
    "ax1=sns.lineplot(data=dd, x=\"Path length\", y=\"Rotation error (deg/100m)\", color='red',label = 'Rotation error (deg/100m)', legend=False)\n",
    "#plt.legend(loc='upper center')\n",
    "#sns_plot.tick_params(axis='y', labelcolor='red')\n",
    "#sns_plot = sns.pointplot(x=\"Path length\", y=\"Rot.err.(deg/100m)\", data=dd, legend_out=False,palette=sns.color_palette([\"#FF0000\"]),linestyles=[\"-\", \"--\"])\n",
    "ax2 = ax1.twinx()\n",
    "sns.lineplot(data=dd, x=\"Path length\", y=\"Translation errror (%) [m/m]\", color='blue',label = 'Translation errror (%) [m/m]',legend=False,ax=ax2)\n",
    "#ax2.tick_params(axis='y', labelcolor='blue')\n",
    "ax1.figure.legend(loc='upper center',bbox_to_anchor=(0.65, 0.85))\n",
    "ax2.figure.legend(loc='upper center',bbox_to_anchor=(0.65, 0.85))\n",
    "#plt.legend(loc='upper right')\n",
    "#p=[ax1, ax2]\n",
    "#sns_plot.legend(p, [p_.get_label() for p_ in p],\n",
    "#loc= 'center', fontsize= 'small')\n",
    "\n",
    "\n",
    "#sns_plot = sns.pointplot(x=\"Path length\", y=\"Trans.err.(%)\", kind=\"box\", dodge=True, data=dd, legend_out=False, par=p)\n",
    "#sns_plot.legend(loc='upper right', ncol=1)\n",
    "plt.title('Error vs path distance')\n",
    "plt.xlim(100,800)\n",
    "plt.grid()\n",
    "plt.show()\n",
    "ax1.figure.savefig('demo-file.pdf')\n",
    "\n",
    "#ax1.savefig('./output/Transl_error_submap_keyframes.eps', format='eps')\n",
    "#ax1.savefig('./output/Transl_error_submap_keyframes.png', format='png', dpi=1500)\n",
    "\n",
    "\n",
    "\n"
   ]
  },
  {
   "cell_type": "code",
   "execution_count": 4,
   "id": "9bb83474-e275-46cd-afad-0ac2517e54f6",
   "metadata": {},
   "outputs": [
    {
     "name": "stdout",
     "output_type": "stream",
     "text": [
      "5         KAIST01\n",
      "0         KAIST02\n",
      "8         KAIST03\n",
      "3           DCC01\n",
      "6           DCC02\n",
      "1           DCC03\n",
      "4     Riverside01\n",
      "7     Riverside02\n",
      "2     Riverside03\n",
      "Name: sequence, dtype: category\n",
      "Categories (9, object): [' KAIST01' < ' KAIST02' < ' KAIST03' < ' DCC01' ... ' DCC03' < ' Riverside01' < ' Riverside02' < ' Riverside03']\n",
      "Trans.err.(%) 2.6665555555555556\n",
      "Rot.err.(deg/100m)0.8712222222222222\n",
      "RPE(m)0.06977777777777777\n",
      "ATE(m)30.101222222222223\n",
      "Sequences: \n",
      "[' KAIST01', ' KAIST02', ' KAIST03', ' DCC01', ' DCC02', ' DCC03', ' Riverside01', ' Riverside02', ' Riverside03']\n",
      "Categories (9, object): [' KAIST01' < ' KAIST02' < ' KAIST03' < ' DCC01' ... ' DCC03' < ' Riverside01' < ' Riverside02' < ' Riverside03']\n",
      "Trans.err.(%) [3.267 2.504 2.919 2.581 2.328 2.267 2.862 2.675 2.596]\n",
      "['3.267/1.136' '2.504/0.909' '2.919/1.135' '2.581/0.712' '2.328/0.748'\n",
      " '2.267/0.768' '2.862/0.957' '2.675/0.817' '2.596/0.659']\n",
      "RPE/ATE\n",
      "['0.075/34.501' '0.074/27.837' '0.075/33.683' '0.085/10.714'\n",
      " '0.052/17.215' '0.059/19.139' '0.075/38.542' '0.07/38.792' '0.063/50.488']\n"
     ]
    },
    {
     "data": {
      "text/plain": [
       "3.058823529411765"
      ]
     },
     "execution_count": 4,
     "metadata": {},
     "output_type": "execute_result"
    },
    {
     "data": {
      "image/png": "[encoded data removed]",
      "text/plain": [
       "<Figure size 432x288 with 1 Axes>"
      ]
     },
     "metadata": {},
     "output_type": "display_data"
    }
   ],
   "source": [
    "import pandas as pd\n",
    "import seaborn as sns\n",
    "import matplotlib.pyplot as plt\n",
    "import numpy as np\n",
    "import csv\n",
    "import math\n",
    "from pandas.api.types import CategoricalDtype\n",
    "\n",
    "\n",
    "#path=\"./oxford-cfear1_2021-09-22_18:18_eval.csv\"\n",
    "#path=\"./oxford-cfear2_2021-09-22_18:20_eval.csv\"\n",
    "#path=\"./oxford-cfear3_2021-09-22_18:22_eval.csv\"\n",
    "#path=\"./mulran_cfear-1_2021-09-22_18:32_eval.csv\"\n",
    "#path=\"./mulran_cfear-2_2021-09-22_18:33_eval.csv\"\n",
    "path=\"./mulran_cfear-3_2021-09-22_18:34_eval.csv\"\n",
    "\n",
    "\n",
    "df = pd.read_csv(path, sep=r',', header=0)\n",
    "\n",
    "sns.set_theme(style=\"ticks\", color_codes=True)\n",
    "sns.set(style=\"ticks\")\n",
    "\n",
    "#### UNCOMMENT FOR MULRAN ####\n",
    "cat_size_order = CategoricalDtype(\n",
    "    [' KAIST01',' KAIST02',' KAIST03',' DCC01',' DCC02',' DCC03',' Riverside01',' Riverside02',' Riverside03'], \n",
    "    ordered=True\n",
    ")\n",
    "##############################\n",
    "\n",
    "#### UNCOMMENT FOR OXFORD ####\n",
    "#cat_size_order = CategoricalDtype(\n",
    "#    [\" 2019-01-10-12-32-52-radar-oxford-10k\", \" 2019-01-16-13-09-37-radar-oxford-10k\", \" 2019-01-17-13-26-39-radar-oxford-10k\", \" 2019-01-18-14-14-42-radar-oxford-10k\", \" 2019-01-18-15-20-12-radar-oxford-10k\", \" 2019-01-16-11-53-11-radar-oxford-10k\", \" 2019-01-10-11-46-21-radar-oxford-10k\",\" 2019-01-18-14-46-59-radar-oxford-10k\"], \n",
    "#    ordered=True\n",
    "#)\n",
    "##############################\n",
    "\n",
    "df['sequence'] = df[\"sequence\"].astype(cat_size_order)\n",
    "df=df.sort_values('sequence')\n",
    "\n",
    "print(df[\"sequence\"])\n",
    "df['setting'] = df.apply (lambda row: \"after\", axis=1)\n",
    "df['for_copy'] = df.apply (lambda row: str(row[\"Trans.err. [%]\"])+\"/\"+str(row[\"Rot.err. [deg/100m]\"]), axis=1)\n",
    "df['for_copy_ATE'] = df.apply (lambda row: str(row[\"RPE [m]\"])+\"/\"+str(row[\"ATE [m]\"]), axis=1)\n",
    "#print(df.columns)\n",
    "df = df.rename(columns={'resolution r': 'resolution r [m]'})\n",
    "\n",
    "sns.scatterplot(data=df, x=\"sequence\", y=\"Trans.err. [%]\", hue=\"setting\")\n",
    "plt.xticks(rotation=45)\n",
    "print(\"Trans.err.(%) \"+str(df[\"Trans.err. [%]\"].mean()))\n",
    "print(\"Rot.err.(deg/100m)\"+str(df[\"Rot.err. [deg/100m]\"].mean()))\n",
    "print(\"RPE(m)\"+str(df[\"RPE [m]\"].mean()))\n",
    "print(\"ATE(m)\"+str(df[\"ATE [m]\"].mean()))\n",
    "print(\"Sequences: \") \n",
    "print(df[\"sequence\"].values)\n",
    "print(\"Trans.err.(%) \"+str(df[\"Trans.err. [%]\"].values))\n",
    "print(df[\"for_copy\"].values)\n",
    "print(\"RPE/ATE\")\n",
    "print(df[\"for_copy_ATE\"].values)\n",
    "#print(df[\"Rot.err.(deg/100m)\"])\n",
    "#print(df[\"sequence\"].to_numpy())\n",
    "2.6/.85"
   ]
  },
  {
   "cell_type": "code",
   "execution_count": null,
   "id": "3f6733a6-e4cd-4230-9b49-738de55672a1",
   "metadata": {},
   "outputs": [],
   "source": []
  }
 ],
 "metadata": {
  "kernelspec": {
   "display_name": "Python 3 (ipykernel)",
   "language": "python",
   "name": "python3"
  },
  "language_info": {
   "codemirror_mode": {
    "name": "ipython",
    "version": 3
   },
   "file_extension": ".py",
   "mimetype": "text/x-python",
   "name": "python",
   "nbconvert_exporter": "python",
   "pygments_lexer": "ipython3",
   "version": "3.9.5"
  }
 },
 "nbformat": 4,
 "nbformat_minor": 5
}
