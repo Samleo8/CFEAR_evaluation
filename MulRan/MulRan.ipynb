{
 "cells": [
  {
   "cell_type": "code",
   "execution_count": 1,
   "id": "8f64a2cc-10b0-4a7c-8a72-e9c49ae89168",
   "metadata": {},
   "outputs": [
    {
     "name": "stdout",
     "output_type": "stream",
     "text": [
      "1.6332222222222221\n",
      "0.5668888888888889\n",
      "3           DCC01\n",
      "6           DCC02\n",
      "5           DCC03\n",
      "7         KAIST01\n",
      "2         KAIST02\n",
      "1         KAIST03\n",
      "8     Riverside01\n",
      "4     Riverside02\n",
      "0     Riverside03\n",
      "Name: sequence, dtype: object\n",
      "3                              2.276/0.531\n",
      "6                                1.5/0.454\n",
      "5                              1.481/0.477\n",
      "7    1.5830000000000002/0.6579999999999999\n",
      "2                              1.594/0.645\n",
      "1                              1.744/0.777\n",
      "8                              1.585/0.627\n",
      "4                 1.4269999999999998/0.512\n",
      "0                              1.509/0.421\n",
      "Name: for_copy, dtype: object\n",
      "0.06533333333333334\n",
      "8.444555555555556\n",
      "['0.083/7.466' '0.051/6.135' '0.057/4.895' '0.071/6.692' '0.067/6.1'\n",
      " '0.07/11.581' '0.071/5.7570000000000014' '0.064/7.479'\n",
      " '0.054000000000000006/19.896']\n"
     ]
    },
    {
     "data": {
      "image/png": "[encoded data removed]",
      "text/plain": [
       "<Figure size 432x288 with 1 Axes>"
      ]
     },
     "metadata": {},
     "output_type": "display_data"
    }
   ],
   "source": [
    "import pandas as pd\n",
    "import seaborn as sns\n",
    "import matplotlib.pyplot as plt\n",
    "import numpy as np\n",
    "import csv\n",
    "import math\n",
    "\n",
    "\n",
    "\n",
    "sns.set_theme(style=\"ticks\", color_codes=True)\n",
    "sns.set(style=\"ticks\")\n",
    "colors = [\"#E59866\", \"#D35400\", \"#873600\", \"#85C1E9\", \"#3498DB\", \"#2874A6\"]\n",
    "pal=sns.color_palette(colors)\n",
    "\n",
    "\n",
    "mar=['o','o','o','s','s','s']\n",
    "lin=['-','--',':','-','--',':']\n",
    "\n",
    "\n",
    "df = pd.read_csv('./2021-08-04_23:19_eval.csv', sep=r',', header=0)\n",
    "df['setting'] = df.apply (lambda row: \"after\", axis=1)\n",
    "df['for_copy'] = df.apply (lambda row: str(row[\"Trans.err.(%)\"])+\"/\"+str(row[\"Rot.err.(deg/100m)\"]), axis=1)\n",
    "df['for_copy_ATE'] = df.apply (lambda row: str(row[\"RPE(m)\"])+\"/\"+str(row[\"ATE(m)\"]), axis=1)\n",
    "#print(df.columns)\n",
    "df = df.rename(columns={'resolution r': 'resolution r [m]'})\n",
    "#from natsort import index_natsorted, order_by_index\n",
    "df=df.sort_values('sequence', ascending=True)\n",
    "sns.scatterplot(data=df, x=\"sequence\", y=\"Trans.err.(%)\", hue=\"setting\")\n",
    "plt.xticks(rotation=45)\n",
    "print(df[\"Trans.err.(%)\"].mean())\n",
    "print(df[\"Rot.err.(deg/100m)\"].mean())\n",
    "print(df[\"sequence\"])\n",
    "print(df[\"for_copy\"])\n",
    "print(df[\"RPE(m)\"].mean())\n",
    "print(df[\"ATE(m)\"].mean())\n",
    "print(df[\"for_copy_ATE\"].values)\n",
    "#print(df[\"Rot.err.(deg/100m)\"])\n",
    "\n"
   ]
  },
  {
   "cell_type": "markdown",
   "id": "4d285e7a-69d2-4933-8bc3-48c363eda41a",
   "metadata": {},
   "source": [
    "## import math\n",
    "\n",
    "### LOAD AND SORT NAMES OF COLUMNS\n",
    "dd = pd.read_csv('./Mulran_generalization_2021-07-24_12:35_errors.txt', sep=r' ', header=0)\n",
    "print(dd)\n",
    "print(dd[\"Rot.err.(deg/100m)\"])\n",
    "dd = dd.rename(columns={'length': 'Path length',})\n",
    "dd = dd.rename(columns={'Rot.err.(deg/100m)': 'Rotation error (deg/100m)',})\n",
    "dd = dd.rename(columns={'Trans.err.(%)': 'Translation errror (%) [m/m]',})\n",
    "#df['Rot.err.(deg/100m)'] = df['Rot.err.(deg/100m)'].apply(lambda x: x*180.0/math.pi*100)\n",
    "dd['Rotation error (deg/100m)'] = dd['Rotation error (deg/100m)']*180/math.pi*100\n",
    "dd['Translation errror (%) [m/m]'] = dd['Translation errror (%) [m/m]']*100\n",
    "\n",
    "ax1=sns.lineplot(data=dd, x=\"Path length\", y=\"Rotation error (deg/100m)\", color='red',label = 'Rotation error (deg/100m)', legend=False)\n",
    "#plt.legend(loc='upper center')\n",
    "#sns_plot.tick_params(axis='y', labelcolor='red')\n",
    "#sns_plot = sns.pointplot(x=\"Path length\", y=\"Rot.err.(deg/100m)\", data=dd, legend_out=False,palette=sns.color_palette([\"#FF0000\"]),linestyles=[\"-\", \"--\"])\n",
    "ax2 = ax1.twinx()\n",
    "sns.lineplot(data=dd, x=\"Path length\", y=\"Translation errror (%) [m/m]\", color='blue',label = 'Translation errror (%) [m/m]',legend=False,ax=ax2)\n",
    "#ax2.tick_params(axis='y', labelcolor='blue')\n",
    "ax1.figure.legend(loc='upper center',bbox_to_anchor=(0.65, 0.85))\n",
    "ax2.figure.legend(loc='upper center',bbox_to_anchor=(0.65, 0.85))\n",
    "#plt.legend(loc='upper right')\n",
    "#p=[ax1, ax2]\n",
    "#sns_plot.legend(p, [p_.get_label() for p_ in p],\n",
    "#loc= 'center', fontsize= 'small')\n",
    "\n",
    "\n",
    "#sns_plot = sns.pointplot(x=\"Path length\", y=\"Trans.err.(%)\", kind=\"box\", dodge=True, data=dd, legend_out=False, par=p)\n",
    "#sns_plot.legend(loc='upper right', ncol=1)\n",
    "plt.title('Error vs path distance')\n",
    "plt.xlim(100,800)\n",
    "plt.grid()\n",
    "plt.show()\n",
    "ax1.figure.savefig('demo-file.pdf')\n",
    "\n",
    "#ax1.savefig('./output/Transl_error_submap_keyframes.eps', format='eps')\n",
    "#ax1.savefig('./output/Transl_error_submap_keyframes.png', format='png', dpi=1500)\n",
    "\n",
    "\n",
    "\n"
   ]
  },
  {
   "cell_type": "code",
   "execution_count": null,
   "id": "9bb83474-e275-46cd-afad-0ac2517e54f6",
   "metadata": {},
   "outputs": [],
   "source": []
  },
  {
   "cell_type": "code",
   "execution_count": null,
   "id": "3f6733a6-e4cd-4230-9b49-738de55672a1",
   "metadata": {},
   "outputs": [],
   "source": []
  }
 ],
 "metadata": {
  "kernelspec": {
   "display_name": "Python 3",
   "language": "python",
   "name": "python3"
  },
  "language_info": {
   "codemirror_mode": {
    "name": "ipython",
    "version": 3
   },
   "file_extension": ".py",
   "mimetype": "text/x-python",
   "name": "python",
   "nbconvert_exporter": "python",
   "pygments_lexer": "ipython3",
   "version": "3.6.9"
  }
 },
 "nbformat": 4,
 "nbformat_minor": 5
}
